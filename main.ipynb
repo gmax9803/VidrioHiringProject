{
 "cells": [
  {
   "cell_type": "markdown",
   "metadata": {},
   "source": [
    "# Vidrio Hiring Project"
   ]
  },
  {
   "cell_type": "code",
   "execution_count": 5,
   "metadata": {},
   "outputs": [],
   "source": [
    "import pandas as pd\n",
    "import os\n",
    "import numpy\n",
    "from datetime import datetime\n",
    "import shutil"
   ]
  },
  {
   "cell_type": "markdown",
   "metadata": {},
   "source": [
    "1.\tCreate a subfolder: Mapping, in the location for your python code. Save the mapping file provided in the Mapping subfolder. The Mapping file will remain in this location.\n",
    "2.\tCreate a subfolder: Output, in the location for your python code. The Exception file and import files your code creates will be saved in the Output folder\n",
    "3.\tAsk the user the location of the Bank Activity file\n",
    "4.\tLoad both Mapping file and Bank Activity file using Pandas into individual Dataframes\n"
   ]
  },
  {
   "cell_type": "code",
   "execution_count": 12,
   "metadata": {},
   "outputs": [
    {
     "name": "stdout",
     "output_type": "stream",
     "text": [
      "Bank activity statement was loaded successfully.\n",
      "Mapping File loaded successfully.\n"
     ]
    }
   ],
   "source": [
    "# C:\\Users\\gmax9\\OneDrive\\Documents\\Projects\\Vidrio\\VidrioHiring\\Settled Cash Activity Statement - Vidrio_22 Jul 2022.xls\n",
    "if not os.path.exists('Output'):\n",
    "    os.makedirs('Output')\n",
    "\n",
    "if not os.path.exists('Mapping'):\n",
    "    os.makedirs('Mapping')\n",
    "\n",
    "mapping_path = os.getcwd() + '\\Cash_Rec_Mapping.xlsx'\n",
    "new_mapping_path = os.getcwd() + '\\\\Mapping\\\\Cash_Rec_Mapping.xlsx'\n",
    "\n",
    "while True:\n",
    "    try:\n",
    "        df_bankactivity = pd.read_excel(input('Please enter full path to \"Bank Activity Statement\".\\n>>'))\n",
    "        # df_bankactivity = pd.read_excel(r'C:\\Users\\gmax9\\OneDrive\\Documents\\Projects\\Vidrio\\VidrioHiring\\Settled Cash Activity Statement - Vidrio_22 Jul 2022.xls')\n",
    "    except:\n",
    "        print('You entered an invalid path, please try again.\\n>>')\n",
    "        continue\n",
    "    else:\n",
    "        print(\"Bank activity statement was loaded successfully.\")\n",
    "        break\n",
    "\n",
    "try:\n",
    "    shutil.copyfile(mapping_path, new_mapping_path)\n",
    "    df_mapping = pd.read_excel(new_mapping_path)\n",
    "except:\n",
    "    print('Error with loading mapping file.')\n",
    "else:\n",
    "    print('Mapping File loaded successfully.')\n"
   ]
  },
  {
   "cell_type": "code",
   "execution_count": 15,
   "metadata": {},
   "outputs": [],
   "source": [
    "df_bankactivity.fillna(\"\", inplace=True)\n",
    "df_exceptions = pd.DataFrame()\n",
    "\n",
    "exceptions_bool = False\n",
    "# I recognize this is inefficient but in the interests of time + I'm on vacation I did it this way.\n",
    "\n",
    "df_bankactivity['Bank Reference ID'] = df_bankactivity['Reference Number']\n",
    "df_bankactivity['Post Date'] = df_bankactivity['Cash Post Date']\n",
    "df_bankactivity['Value Date'] = df_bankactivity['Cash Value Date']\n",
    "df_bankactivity['Amount'] = df_bankactivity['Transaction Amount Local']\n",
    "df_bankactivity['Description'] = df_bankactivity[['Transaction Description 1', 'Transaction Description 2', 'Transaction Description 3', \\\n",
    "    'Transaction Description 4', 'Transaction Description 5', 'Transaction Description 6', 'Detailed Transaction Type Name', 'Transaction Type']].agg(\"\".join, axis=1)\n",
    "df_bankactivity['Bank Account'] = df_bankactivity['Cash Account Number']\n",
    "df_bankactivity['Closing_Balance'] = df_bankactivity['Closing Balance Local']\n",
    "df_bankactivity['Filename'] = str(df_bankactivity['Cash Account Number']) + ' ' + str(datetime.now().strftime(\"%Y-%m-%d-%H-%M-%S\")) + '.csv'\n",
    "\n",
    "df_bankactivity.fillna(\"\", inplace=True)"
   ]
  },
  {
   "cell_type": "code",
   "execution_count": 14,
   "metadata": {},
   "outputs": [
    {
     "name": "stdout",
     "output_type": "stream",
     "text": [
      "8901325333 Has no activity\n",
      "8901508934 Has no activity\n",
      "213631.79000000097\n",
      "12083534.920000002\n",
      "8901308609 Has no activity\n",
      "8901461261 Has no activity\n",
      "8901071943 Has no activity\n",
      "4139988.880000015\n",
      "173053491.82\n",
      "8901435511 Has no activity\n"
     ]
    }
   ],
   "source": [
    "df_refID_map = df_mapping['Bank Ref ID']\n",
    "\n",
    "df_refID_sbal_map = pd.DataFrame()\n",
    "\n",
    "df_refID_sbal_map['Bank Ref ID'] = df_mapping['Bank Ref ID']\n",
    "df_refID_sbal_map['Starting_Balance'] = df_mapping['Starting_Balance']\n",
    "\n",
    "df_oput = pd.DataFrame()\n",
    "df_mm = pd.DataFrame()\n",
    "\n",
    "for i, id in df_refID_map.items():\n",
    "    sbal = df_refID_sbal_map[(df_refID_sbal_map['Bank Ref ID'] == id)]['Starting_Balance'].iloc[0]\n",
    "    \n",
    "    df_oput = df_bankactivity[(df_bankactivity['Cash Account Number'] == id) & (df_bankactivity['Transaction Description 1'].str.contains('STIF') == False)]\n",
    "    df_mm = df_bankactivity[(df_bankactivity['Description'].str.contains('STIF')) & (df_bankactivity['Cash Account Number'] == id)]\n",
    "    df_write_file = df_oput[['Bank Reference ID', 'Post Date', 'Value Date', 'Amount', 'Description', 'Bank Account', 'Closing_Balance']]\n",
    "\n",
    "    if df_write_file.empty:\n",
    "        print(str(id) + ' Has no activity')\n",
    "    else:\n",
    "        bank_closing_balance = df_bankactivity[(df_bankactivity['Cash Account Number'] == id)]['Closing_Balance'].iloc[0]\n",
    "        mm_overnight = df_mm['Amount'].sum() # Assuming I should use amount column, instructions were not specific\n",
    "\n",
    "        df_write_file = pd.concat([df_write_file, pd.DataFrame({\n",
    "            'Bank Reference ID': ['Starting Balance'],\n",
    "            'Post Date': ['2020-01-01'],\n",
    "            'Value Date': ['2020-01-01'],\n",
    "            'Amount': [sbal],\n",
    "            'Description': ['Starting Balance'],\n",
    "            'Bank Account': [id],\n",
    "            'Closing_Balance': [0]}, columns=df_write_file.columns)], ignore_index=True)\n",
    "\n",
    "        df_write_file['Amount'] = pd.to_numeric(df_write_file['Amount'])\n",
    "        calc_closing_balance = df_write_file['Amount'].sum()\n",
    "\n",
    "        sumval = bank_closing_balance + mm_overnight\n",
    "        if(round(calc_closing_balance, 2) != sumval):\n",
    "            df_exceptions = pd.concat([df_exceptions, pd.DataFrame({\n",
    "                'Bank Reference ID': [id],\n",
    "                'Closing_MM': [bank_closing_balance + mm_overnight],\n",
    "                'Calc Closing': [calc_closing_balance]\n",
    "            })], ignore_index=True)\n",
    "            exceptions_bool = True\n",
    "        \n",
    "        timestamp = datetime.now().strftime(\"%Y-%m-%d-%H-%M-%S\")\n",
    "\n",
    "        df_write_file.to_excel(os.getcwd() + '\\\\Output\\\\' + str(id) + ' ' + timestamp + '.xlsx', sheet_name=\"Bank Transcations\")\n",
    "        df_mapping.loc[(df_mapping['Bank Ref ID'] == id), ['Starting_Balance']] = calc_closing_balance\n",
    "    #END FOR\n",
    "\n",
    "df_mapping.to_excel(new_mapping_path)\n",
    "\n",
    "if not df_exceptions.empty:\n",
    "    df_exceptions.to_excel(os.getcwd() + '\\\\Output\\\\EXCEPTIONS ' + timestamp + '.xlsx')"
   ]
  }
 ],
 "metadata": {
  "kernelspec": {
   "display_name": "Python 3.10.6 64-bit",
   "language": "python",
   "name": "python3"
  },
  "language_info": {
   "codemirror_mode": {
    "name": "ipython",
    "version": 3
   },
   "file_extension": ".py",
   "mimetype": "text/x-python",
   "name": "python",
   "nbconvert_exporter": "python",
   "pygments_lexer": "ipython3",
   "version": "3.10.6"
  },
  "orig_nbformat": 4,
  "vscode": {
   "interpreter": {
    "hash": "1e5631d47ccdf4c11f12d17b94d590efb6c59bcd9428e00e4f166071895dd35e"
   }
  }
 },
 "nbformat": 4,
 "nbformat_minor": 2
}
